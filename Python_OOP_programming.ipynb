{
 "cells": [
  {
   "cell_type": "markdown",
   "metadata": {},
   "source": [
    "# Python OOP\n",
    "## Creating a class (type) in Python"
   ]
  },
  {
   "cell_type": "code",
   "execution_count": 3,
   "metadata": {},
   "outputs": [],
   "source": [
    "class Coordinate(object):\n",
    "    \n",
    "    # structure\n",
    "    def __init__(self, x, y):\n",
    "        self.x = x\n",
    "        self.y = y\n",
    "    \n",
    "    # this method will be called when we want to print an instance of this class\n",
    "    def __str__(self):\n",
    "        return f'<{str(self.x)}, {self.y}>'\n",
    "        \n",
    "    def distance(self, other):\n",
    "        # finding the Euclid Distance\n",
    "        x_diff_sq = (self.x - other.x) ** 2\n",
    "        y_diff_sq = (self.y - other.y) ** 2\n",
    "        return (x_diff_sq + y_diff_sq) ** 0.5"
   ]
  },
  {
   "cell_type": "code",
   "execution_count": 5,
   "metadata": {},
   "outputs": [
    {
     "name": "stdout",
     "output_type": "stream",
     "text": [
      "<2, 3>\n"
     ]
    }
   ],
   "source": [
    "point_a = Coordinate(2, 3)  # creating an instance of Coordinate class\n",
    "print(point_a)"
   ]
  },
  {
   "cell_type": "code",
   "execution_count": 12,
   "metadata": {},
   "outputs": [
    {
     "name": "stdout",
     "output_type": "stream",
     "text": [
      "<class '__main__.Coordinate'>\n"
     ]
    }
   ],
   "source": [
    "print(type(point_a))"
   ]
  },
  {
   "cell_type": "code",
   "execution_count": 13,
   "metadata": {},
   "outputs": [
    {
     "name": "stdout",
     "output_type": "stream",
     "text": [
      "<class 'type'>\n"
     ]
    }
   ],
   "source": [
    "print(type(Coordinate))"
   ]
  },
  {
   "cell_type": "code",
   "execution_count": 16,
   "metadata": {},
   "outputs": [
    {
     "name": "stdout",
     "output_type": "stream",
     "text": [
      "True\n"
     ]
    }
   ],
   "source": [
    "print(isinstance(point_a, Coordinate))"
   ]
  },
  {
   "cell_type": "markdown",
   "metadata": {},
   "source": [
    "It's possible to change other pythons special methods. Let's take a look how we can do so in the next class. But before that, let's understand why we might need to change special methods such as __ __add__ __ . Lets assume that we want to add two Coordinates. Without customizing the __ __add__ __ method, we will get an error. Because the coordinate class/object is not an the same as int or float class/object."
   ]
  },
  {
   "cell_type": "code",
   "execution_count": 20,
   "metadata": {},
   "outputs": [],
   "source": [
    "class Fraction(object):\n",
    "    \"\"\"\n",
    "    A number represented as a fraction.\n",
    "    \"\"\"\n",
    "    \n",
    "    def __init__(self, numerator, denominator):\n",
    "        \"\"\"nominator and denominator are integers.\"\"\"\n",
    "        assert type(numerator) == int and type(denominator) == int, 'Integers not used!'\n",
    "        # The assert keyword lets you test if a condition in your code returns True, \n",
    "        # if not, the program will raise an AssertionError.\n",
    "        \n",
    "        self.numerator = numerator\n",
    "        self.denominator = denominator\n",
    "        \n",
    "    def __str__(self):\n",
    "        \"\"\"Returns a string representation of self.\"\"\"\n",
    "        return f'{str(self.numerator)} / {str(self.denominator)}'\n",
    "    \n",
    "    def __add__(self, other):\n",
    "        \"\"\"Returns a new Fraction (type/class) representing the addition\"\"\"\n",
    "        top = self.numerator*other.denominator + self.denominator*other.numerator\n",
    "        bottom = self.denominator*other.denominator\n",
    "        return Fraction(top, bottom)\n",
    "    \n",
    "    def __sub__(self, other):\n",
    "        \"\"\"Returns a new Fraction (type/class) representing the subtraction\"\"\"\n",
    "        top = self.numerator*other.denominator - self.denominator*other.numerator\n",
    "        bottom = self.denominator*other.denominator\n",
    "        return Fraction(top, bottom)\n",
    "\n",
    "    def __float__(self):\n",
    "        \"\"\"Returns a float value of the fraction\"\"\"\n",
    "        return self.numerator / self.denominator\n",
    "    \n",
    "    def inverse(self):\n",
    "        \"\"\"Returns a new Fraction (type/class) representing the inverse of the current fraction\"\"\"\n",
    "        return Fraction(self.denominator, self.numerator)"
   ]
  },
  {
   "cell_type": "code",
   "execution_count": 25,
   "metadata": {},
   "outputs": [
    {
     "name": "stdout",
     "output_type": "stream",
     "text": [
      "16 / 16\n"
     ]
    }
   ],
   "source": [
    "a = Fraction(1, 4)\n",
    "b = Fraction(3, 4)\n",
    "c = a + b\n",
    "print(c)"
   ]
  },
  {
   "cell_type": "code",
   "execution_count": 26,
   "metadata": {},
   "outputs": [
    {
     "name": "stdout",
     "output_type": "stream",
     "text": [
      "1.0\n",
      "1.0\n"
     ]
    }
   ],
   "source": [
    "print(float(c))\n",
    "print(Fraction.__float__(c))"
   ]
  },
  {
   "cell_type": "code",
   "execution_count": 27,
   "metadata": {},
   "outputs": [
    {
     "name": "stdout",
     "output_type": "stream",
     "text": [
      "4 / 3\n"
     ]
    }
   ],
   "source": [
    "print(b.inverse())"
   ]
  },
  {
   "cell_type": "code",
   "execution_count": 28,
   "metadata": {},
   "outputs": [
    {
     "name": "stdout",
     "output_type": "stream",
     "text": [
      "1.3333333333333333\n"
     ]
    }
   ],
   "source": [
    "print(float(b.inverse()))"
   ]
  }
 ],
 "metadata": {
  "kernelspec": {
   "display_name": "Python 3.7.2 64-bit",
   "language": "python",
   "name": "python37264bit95d7ff47580e40599ce4056a72589eb5"
  },
  "language_info": {
   "codemirror_mode": {
    "name": "ipython",
    "version": 3
   },
   "file_extension": ".py",
   "mimetype": "text/x-python",
   "name": "python",
   "nbconvert_exporter": "python",
   "pygments_lexer": "ipython3",
   "version": "3.7.2"
  }
 },
 "nbformat": 4,
 "nbformat_minor": 2
}
