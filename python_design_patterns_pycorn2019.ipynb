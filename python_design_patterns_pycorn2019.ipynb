{
 "cells": [
  {
   "cell_type": "markdown",
   "metadata": {},
   "source": [
    "# Design Patterns in Python (pycon 2019)\n",
    "Idioms (Language specific) - \n",
    "Architecture Patterns (MVC etc) - \n",
    "Design Patterns (GoF)\n",
    "\n",
    "---\n",
    "### Design Patterns Classified:\n",
    "- Creational Pattern\n",
    "- Structural Pattern\n",
    "- Behavioral Pattern\n",
    "\n",
    "\n",
    "### Design Principles:\n",
    "A- Separate out the things that change from those that stay the same.\n",
    "B- Program to an interface, not an implementation. (Take a way information that are not important for the user; Use private method and fields when you can)\n",
    "C- Prefer composition and delegation over inheritance.\n",
    "\n",
    "### Anatomy of Design Patterns:\n",
    "intent \n",
    "Motivation\n",
    "Structure (UML)\n",
    "Implementation\n",
    "\n",
    "----\n",
    "\n",
    "\n",
    "## Singleton Pattern\n",
    "It’s a creational design pattern that lets you ensure that a class has just one instance, while creating a global access point to this instance. Example: Connection to server. You need just one connection and not many at once."
   ]
  },
  {
   "cell_type": "code",
   "execution_count": 49,
   "metadata": {},
   "outputs": [],
   "source": [
    "class _Tigger:\n",
    "    def __str__(self):\n",
    "        return \"I'm the only one!\"\n",
    "    \n",
    "    def roar(self):\n",
    "        return \"grrr!\"\n",
    "\n",
    "# This part of the code takes care of single creation of the Tigger class.\n",
    "_instance = None\n",
    "def Tigger():\n",
    "    global _instance\n",
    "    if _instance is None:\n",
    "        _instance = _Tigger()\n",
    "    return _instance"
   ]
  },
  {
   "cell_type": "code",
   "execution_count": 50,
   "metadata": {},
   "outputs": [
    {
     "name": "stdout",
     "output_type": "stream",
     "text": [
      "ID(a) = 4498646128\n",
      "ID(b) = 4498646128\n",
      "Are a and b the same object? True\n"
     ]
    }
   ],
   "source": [
    "a = Tigger()\n",
    "b = Tigger()\n",
    "\n",
    "print(f'ID(a) = {id(a)}')\n",
    "print(f'ID(b) = {id(b)}')\n",
    "print(f'Are a and b the same object? {a is b}')"
   ]
  },
  {
   "cell_type": "markdown",
   "metadata": {},
   "source": [
    "---\n",
    "## Template Method Patterns\n",
    "It's a behaviour pattern that define a skeleton of an Algorithm in the base class but lets derived classes override specific steps of the algorithm without changing its structure.\n",
    "this pattern suggests that you break down an algorithm into series of steps, turn this steps into methods, and put series of calls to this methods inside a single 'template method'.\n"
   ]
  },
  {
   "cell_type": "code",
   "execution_count": 51,
   "metadata": {},
   "outputs": [],
   "source": [
    "from abc import ABC, abstractmethod\n",
    "\n",
    "class AverageCalculator(ABC):  #1\n",
    "    def average(self):  #2\n",
    "        try:\n",
    "            num_items = 0\n",
    "            total_sum = 0\n",
    "            while self.has_next():\n",
    "                total_sum += self.next_item()\n",
    "                num_items += 1\n",
    "            if num_items == 0:\n",
    "                raise RuntimeError(\"Can't compute the average of zero items\")\n",
    "            return total_sum/num_items\n",
    "        finally:\n",
    "            self.dispose()\n",
    "    \n",
    "    @abstractmethod  # 3\n",
    "    def has_next(self):\n",
    "        pass\n",
    "    \n",
    "    @abstractmethod\n",
    "    def next_item(self):\n",
    "        pass\n",
    "    \n",
    "    # this has a default functionality\n",
    "    def dispose(self):\n",
    "        pass"
   ]
  },
  {
   "cell_type": "code",
   "execution_count": 52,
   "metadata": {},
   "outputs": [],
   "source": [
    "class FileAverageCalculator(AverageCalculator):  # 4\n",
    "    def __init__(self, file):\n",
    "        self.file = file\n",
    "        self.last_line = self.file.readline()\n",
    "        \n",
    "    def has_next(self):  # 5\n",
    "        return self.last_line != ''\n",
    "    \n",
    "    def next_item(self):\n",
    "        result = float(self.last_line)\n",
    "        self.last_line = self.file.readline()\n",
    "        return result\n",
    "    \n",
    "    def dispose(self):\n",
    "        self.file.close()  # call the template method"
   ]
  },
  {
   "cell_type": "code",
   "execution_count": 53,
   "metadata": {},
   "outputs": [
    {
     "name": "stdout",
     "output_type": "stream",
     "text": [
      "Average is: 7.0\n"
     ]
    }
   ],
   "source": [
    "fac = FileAverageCalculator(open('numbers.txt'))\n",
    "print(f'Average is: {fac.average()}')"
   ]
  },
  {
   "cell_type": "code",
   "execution_count": 54,
   "metadata": {},
   "outputs": [],
   "source": [
    "class MemoryAverageCalculator(AverageCalculator):  # 6\n",
    "    def __init__(self, numbers):\n",
    "        self.numbers = numbers\n",
    "        self.index = 0\n",
    "        \n",
    "    def has_next(self):  # 7\n",
    "        return len(self.numbers) > self.index\n",
    "    \n",
    "    def next_item(self):\n",
    "        result = self.numbers[self.index]\n",
    "        self.index += 1\n",
    "        return result"
   ]
  },
  {
   "cell_type": "code",
   "execution_count": 55,
   "metadata": {},
   "outputs": [
    {
     "name": "stdout",
     "output_type": "stream",
     "text": [
      "Avarage is: 5.0\n"
     ]
    }
   ],
   "source": [
    "mac = MemoryAverageCalculator([1, 2, 3, 4, 5, 6, 7, 8, 9])\n",
    "print(f'Avarage is: {mac.average()}')"
   ]
  },
  {
   "cell_type": "markdown",
   "metadata": {},
   "source": [
    "---\n",
    "## Adapter\n",
    "A structure design pattern that converts the interface of a class into another interface client expected. Adapter lets classes work together that couldn't otherwise Because of Incompatible Interfaces."
   ]
  },
  {
   "cell_type": "code",
   "execution_count": 59,
   "metadata": {},
   "outputs": [
    {
     "name": "stdout",
     "output_type": "stream",
     "text": [
      "50.41486\n"
     ]
    }
   ],
   "source": [
    "class GeneratorAdapter:\n",
    "    def __init__(self, adaptee):\n",
    "        self.adaptee = adaptee\n",
    "        \n",
    "    def readline(self):\n",
    "        try:\n",
    "            return next(self.adaptee)\n",
    "        except StopIteration:\n",
    "            return ''\n",
    "        \n",
    "    def close(self):\n",
    "        pass\n",
    "    \n",
    "from random import randint\n",
    "generator = (randint(1,100) for i in range(100000))\n",
    "fac = FileAverageCalculator(GeneratorAdapter(generator))  \n",
    "\"\"\"\n",
    "as you see above, instead of giving a file, we give it a generator.\n",
    "The FileAverageCalculator is getting a file as input, but our new class, GeneratorAdapter\n",
    "helps us to adapte a generator instead of a file.\n",
    "\"\"\"\n",
    "print(fac.average())"
   ]
  },
  {
   "cell_type": "markdown",
   "metadata": {},
   "source": [
    "----\n",
    "second example:"
   ]
  },
  {
   "cell_type": "code",
   "execution_count": 61,
   "metadata": {},
   "outputs": [],
   "source": [
    "class Duck:\n",
    "    def quack(self):\n",
    "        print('Quack Quack')\n",
    "        \n",
    "    def fly(self):\n",
    "        print('I am flying')\n",
    "        \n",
    "\n",
    "class Turkey:\n",
    "    def gobble(self):\n",
    "        print('gobble gobble')\n",
    "        \n",
    "    def fly(self):\n",
    "        print('I am flying a short distance')"
   ]
  },
  {
   "cell_type": "code",
   "execution_count": 62,
   "metadata": {},
   "outputs": [],
   "source": [
    "class TurkeyAdapter:\n",
    "    '''\n",
    "    We need an adapter which get's an input (bird) and returns two methods from the Turkey class.\n",
    "    Differences are that no matter what the input bird is, it will gobble and it will fly longer.\n",
    "    in this case we just print the fly() 5 times.\n",
    "    '''\n",
    "    def __init__(self, adaptee):\n",
    "        self.adaptee = adaptee\n",
    "        \n",
    "    def quack(self):\n",
    "        self.adaptee.gobble()\n",
    "    \n",
    "    def fly(self):\n",
    "        for i in range(5):\n",
    "            self.adaptee.fly()"
   ]
  },
  {
   "cell_type": "code",
   "execution_count": 73,
   "metadata": {},
   "outputs": [
    {
     "name": "stdout",
     "output_type": "stream",
     "text": [
      "The turkey says...\n",
      "gobble gobble\n",
      "I am flying a short distance\n",
      "\n",
      "The duck says...\n",
      "Quack Quack\n",
      "I am flying\n",
      "\n",
      "The turkey_adapter says...\n",
      "gobble gobble\n",
      "I am flying a short distance\n",
      "I am flying a short distance\n",
      "I am flying a short distance\n",
      "I am flying a short distance\n",
      "I am flying a short distance\n"
     ]
    }
   ],
   "source": [
    "def duck_interaction(duck):\n",
    "    duck.quack()\n",
    "    duck.fly()\n",
    "    \n",
    "def turkey_interaction(turkey):\n",
    "    turkey.gobble()\n",
    "    turkey.fly()\n",
    "    \n",
    "duck = Duck()\n",
    "turkey = Turkey()\n",
    "turkey_adapter = TurkeyAdapter(turkey)\n",
    "\n",
    "print('The turkey says...')\n",
    "turkey_interaction(turkey)\n",
    "\n",
    "print('\\nThe duck says...')\n",
    "duck_interaction(duck)\n",
    "\n",
    "print('\\nThe turkey_adapter says...')\n",
    "duck_interaction(turkey_adapter)"
   ]
  },
  {
   "cell_type": "markdown",
   "metadata": {},
   "source": [
    "----\n",
    "## Observer\n",
    "It's a behaviour design pattern that defines a one to many dependency between objects so that when one object changes state, all its dependents are Notified and update aromatically."
   ]
  },
  {
   "cell_type": "code",
   "execution_count": 75,
   "metadata": {},
   "outputs": [],
   "source": [
    "from abc import ABC, abstractmethod\n",
    "\n",
    "class Observer(ABC):\n",
    "    '''\n",
    "    This is an abstract class.\n",
    "    Subscribers \n",
    "    '''\n",
    "    @abstractmethod\n",
    "    def update(self, Observable, *args):\n",
    "        pass\n",
    "    \n",
    "\n",
    "class Observable:\n",
    "    '''\n",
    "    Publisher\n",
    "    '''\n",
    "    def __init__(self):\n",
    "        self.__observers = []\n",
    "        \n",
    "    def add_observer(self, observer):\n",
    "        self.__observers.append(observer)\n",
    "        \n",
    "    def delete_observer(self, observer):\n",
    "        self.__observers.remove(observer)\n",
    "        \n",
    "    def notify_observers(self, *args):\n",
    "        for observer in self.__observers:\n",
    "            observer.update(self, *args)"
   ]
  },
  {
   "cell_type": "code",
   "execution_count": 84,
   "metadata": {},
   "outputs": [],
   "source": [
    "# Observable or publisher\n",
    "class Employee(Observable):\n",
    "    \n",
    "    def __init__(self, name, salary):\n",
    "        super().__init__()\n",
    "        self._name = name\n",
    "        self._salary = salary\n",
    "        \n",
    "    @property\n",
    "    def name(self):\n",
    "        return self._name\n",
    "    \n",
    "    @property\n",
    "    def salary(self):\n",
    "        return self._salary\n",
    "    \n",
    "    @salary.setter\n",
    "    def salary(self, new_salary):\n",
    "        self._salary = new_salary\n",
    "        self.notify_observers(new_salary)\n",
    "        \n",
    "\n",
    "# observers or subscribers classes are Payroll and TaxMan\n",
    "class Payroll(Observer):\n",
    "    \n",
    "    def update(self, changed_employee, new_salary):\n",
    "        print(f'Cut a new check for {changed_employee.name}. '\n",
    "        f'Her/His new salary is {new_salary}.')\n",
    "        \n",
    "        \n",
    "class TaxMan(Observer):\n",
    "    \n",
    "    def update(self, changed_employee, new_salary):\n",
    "        print(f'Send {changed_employee.name} a new tax bill.')"
   ]
  },
  {
   "cell_type": "code",
   "execution_count": 85,
   "metadata": {},
   "outputs": [
    {
     "name": "stdout",
     "output_type": "stream",
     "text": [
      "Update one\n",
      "Cut a new check for Sam Levin. Her/His new salary is 110000.\n",
      "Send Sam Levin a new tax bill.\n",
      "\n",
      "Update two\n",
      "Cut a new check for Sam Levin. Her/His new salary is 120000.\n"
     ]
    }
   ],
   "source": [
    "e = Employee('Sam Levin', 100000)\n",
    "p = Payroll()\n",
    "t = TaxMan()\n",
    "\n",
    "# Subscribing \n",
    "e.add_observer(p)\n",
    "e.add_observer(t)\n",
    "\n",
    "# Updating (publishing some new info)\n",
    "print('Update one')\n",
    "e.salary = 110000\n",
    "\n",
    "# Unsubscribe\n",
    "e.delete_observer(t)\n",
    "\n",
    "print('\\nUpdate two')\n",
    "e.salary = 120000"
   ]
  }
 ],
 "metadata": {
  "kernelspec": {
   "display_name": "Python 3.7.2 64-bit",
   "language": "python",
   "name": "python37264bit95d7ff47580e40599ce4056a72589eb5"
  },
  "language_info": {
   "codemirror_mode": {
    "name": "ipython",
    "version": 3
   },
   "file_extension": ".py",
   "mimetype": "text/x-python",
   "name": "python",
   "nbconvert_exporter": "python",
   "pygments_lexer": "ipython3",
   "version": "3.7.2"
  }
 },
 "nbformat": 4,
 "nbformat_minor": 2
}
