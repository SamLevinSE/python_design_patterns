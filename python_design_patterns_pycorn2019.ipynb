{
 "cells": [
  {
   "cell_type": "markdown",
   "metadata": {},
   "source": [
    "# Design Patterns in Python (pycon 2019)\n",
    "Idioms (Language specific) - \n",
    "Architecture Patterns (MVC etc) - \n",
    "Design Patterns (GoF)\n",
    "\n",
    "---\n",
    "### Design Patterns Classified:\n",
    "- Creational Pattern\n",
    "- Structural Pattern\n",
    "- Behavioral Pattern\n",
    "\n",
    "\n",
    "### Design Principles:\n",
    "A- Separate out the things that change from those that stay the same.\n",
    "B- Program to an interface, not an implementation. (Take a way information that are not important for the user; Use private method and fields when you can)\n",
    "C- Prefer composition and delegation over inheritance.\n",
    "\n",
    "### Anatomy of Design Patterns:\n",
    "intent \n",
    "Motivation\n",
    "Structure (UML)\n",
    "Implementation\n",
    "\n",
    "----\n",
    "\n",
    "\n",
    "## Singleton Pattern\n",
    "It’s a creational design pattern that lets you ensure that a class has just one instance, while creating a global access point to this instance. Example: Connection to server. You need just one connection and not many at once."
   ]
  },
  {
   "cell_type": "code",
   "execution_count": 6,
   "metadata": {},
   "outputs": [],
   "source": [
    "class _Tigger:\n",
    "    def __str__(self):\n",
    "        return \"I'm the only one!\"\n",
    "    \n",
    "    def roar(self):\n",
    "        return \"grrr!\"\n",
    "\n",
    "# This part of the code takes care of single creation of the Tigger class.\n",
    "_instance = None\n",
    "def Tigger():\n",
    "    global _instance\n",
    "    if _instance is None:\n",
    "        _instance = _Tigger()\n",
    "    return _instance"
   ]
  },
  {
   "cell_type": "code",
   "execution_count": 7,
   "metadata": {},
   "outputs": [
    {
     "name": "stdout",
     "output_type": "stream",
     "text": [
      "ID(a) = 4493863568\n",
      "ID(b) = 4493863568\n",
      "Are a and b the same object? True\n"
     ]
    }
   ],
   "source": [
    "a = Tigger()\n",
    "b = Tigger()\n",
    "\n",
    "print(f'ID(a) = {id(a)}')\n",
    "print(f'ID(b) = {id(b)}')\n",
    "print(f'Are a and b the same object? {a is b}')"
   ]
  },
  {
   "cell_type": "markdown",
   "metadata": {},
   "source": [
    "---\n",
    "## Template Method Patterns\n",
    "It's a behaviour pattern that define a skeleton of an Algorithm in the base class but lets derived classes override specific steps of the algorithm without changing its structure.\n",
    "this pattern suggests that you break down an algorithm into series of steps, turn this steps into methods, and put series of calls to this methods inside a single 'template method'.\n"
   ]
  },
  {
   "cell_type": "code",
   "execution_count": 23,
   "metadata": {},
   "outputs": [],
   "source": [
    "from abc import ABC, abstractmethod\n",
    "\n",
    "class AverageCalculator(ABC):  #1\n",
    "    def average(self):  #2\n",
    "        try:\n",
    "            num_items = 0\n",
    "            total_sum = 0\n",
    "            while self.has_next():\n",
    "                total_sum += self.next_item()\n",
    "                num_items += 1\n",
    "            if num_items == 0:\n",
    "                raise RuntimeError(\"Can't compute the average of zero items\")\n",
    "            return total_sum/num_items\n",
    "        finally:\n",
    "            self.dispose()\n",
    "    \n",
    "    @abstractmethod\n",
    "    def has_next(self):\n",
    "        pass\n",
    "    \n",
    "    @abstractmethod\n",
    "    def next_item(self):\n",
    "        pass\n",
    "    \n",
    "    # this has a default functionality\n",
    "    def dispose(self):\n",
    "        pass"
   ]
  },
  {
   "cell_type": "code",
   "execution_count": 24,
   "metadata": {},
   "outputs": [],
   "source": [
    "class FileAverageCalculator(AverageCalculator):\n",
    "    def __init__(self, file):\n",
    "        self.file = file\n",
    "        self.last_line = self.file.readline()\n",
    "        \n",
    "    def has_next(self):\n",
    "        return self.last_line != ''\n",
    "    \n",
    "    def next_item(self):\n",
    "        result = float(self.last_line)\n",
    "        self.last_line = self.file.readline()\n",
    "        return result\n",
    "    \n",
    "    def dispose(self):\n",
    "        self.file.close()  # call the template method"
   ]
  },
  {
   "cell_type": "code",
   "execution_count": 35,
   "metadata": {},
   "outputs": [
    {
     "name": "stdout",
     "output_type": "stream",
     "text": [
      "Average is: 7.0\n"
     ]
    }
   ],
   "source": [
    "fac = FileAverageCalculator(open('numbers.txt'))\n",
    "print(f'Average is: {fac.average()}')"
   ]
  },
  {
   "cell_type": "code",
   "execution_count": 46,
   "metadata": {},
   "outputs": [],
   "source": [
    "class MemoryAverageCalculator(AverageCalculator):\n",
    "    def __init__(self, numbers):\n",
    "        self.numbers = numbers\n",
    "        self.index = 0\n",
    "        \n",
    "    def has_next(self):\n",
    "        return len(self.numbers) > self.index\n",
    "    \n",
    "    def next_item(self):\n",
    "        result = self.numbers[self.index]\n",
    "        self.index += 1\n",
    "        return result"
   ]
  },
  {
   "cell_type": "code",
   "execution_count": 47,
   "metadata": {},
   "outputs": [
    {
     "name": "stdout",
     "output_type": "stream",
     "text": [
      "Avarage is: 5.0\n"
     ]
    }
   ],
   "source": [
    "mac = MemoryAverageCalculator([1, 2, 3, 4, 5, 6, 7, 8, 9])\n",
    "print(f'Avarage is: {mac.average()}')"
   ]
  }
 ],
 "metadata": {
  "kernelspec": {
   "display_name": "Python 3.7.2 64-bit",
   "language": "python",
   "name": "python37264bit95d7ff47580e40599ce4056a72589eb5"
  },
  "language_info": {
   "codemirror_mode": {
    "name": "ipython",
    "version": 3
   },
   "file_extension": ".py",
   "mimetype": "text/x-python",
   "name": "python",
   "nbconvert_exporter": "python",
   "pygments_lexer": "ipython3",
   "version": "3.7.2"
  }
 },
 "nbformat": 4,
 "nbformat_minor": 2
}
